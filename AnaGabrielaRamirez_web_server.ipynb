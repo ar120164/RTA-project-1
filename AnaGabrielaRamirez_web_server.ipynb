{
 "cells": [
  {
   "cell_type": "markdown",
   "id": "be36d0be",
   "metadata": {},
   "source": [
    "## Flask application with Perceptron model and Iris data\n",
    "This script contains one web service: \n",
    "* **getPredict()**: returns a prediction based on petal and sepal lenghts. "
   ]
  },
  {
   "cell_type": "markdown",
   "id": "ed19313d",
   "metadata": {},
   "source": [
    "### Required libraries\n",
    "First we need to install the required libraries."
   ]
  },
  {
   "cell_type": "code",
   "execution_count": 6,
   "id": "0cca5300",
   "metadata": {},
   "outputs": [
    {
     "name": "stdout",
     "output_type": "stream",
     "text": [
      "Requirement already satisfied: Flask in d:\\programs\\anaconda\\lib\\site-packages (1.1.2)\n",
      "Requirement already satisfied: click>=5.1 in d:\\programs\\anaconda\\lib\\site-packages (from Flask) (8.0.3)\n",
      "Requirement already satisfied: itsdangerous>=0.24 in d:\\programs\\anaconda\\lib\\site-packages (from Flask) (2.0.1)\n",
      "Requirement already satisfied: Werkzeug>=0.15 in d:\\programs\\anaconda\\lib\\site-packages (from Flask) (2.0.2)\n",
      "Requirement already satisfied: Jinja2>=2.10.1 in d:\\programs\\anaconda\\lib\\site-packages (from Flask) (2.11.3)\n",
      "Requirement already satisfied: colorama in d:\\programs\\anaconda\\lib\\site-packages (from click>=5.1->Flask) (0.4.4)\n",
      "Requirement already satisfied: MarkupSafe>=0.23 in d:\\programs\\anaconda\\lib\\site-packages (from Jinja2>=2.10.1->Flask) (1.1.1)\n",
      "Requirement already satisfied: Flask_restful in d:\\programs\\anaconda\\lib\\site-packages (0.3.9)\n",
      "Requirement already satisfied: Flask>=0.8 in d:\\programs\\anaconda\\lib\\site-packages (from Flask_restful) (1.1.2)\n",
      "Requirement already satisfied: six>=1.3.0 in d:\\programs\\anaconda\\lib\\site-packages (from Flask_restful) (1.16.0)\n",
      "Requirement already satisfied: pytz in d:\\programs\\anaconda\\lib\\site-packages (from Flask_restful) (2021.3)\n",
      "Requirement already satisfied: aniso8601>=0.82 in d:\\programs\\anaconda\\lib\\site-packages (from Flask_restful) (9.0.1)\n",
      "Requirement already satisfied: Jinja2>=2.10.1 in d:\\programs\\anaconda\\lib\\site-packages (from Flask>=0.8->Flask_restful) (2.11.3)\n",
      "Requirement already satisfied: click>=5.1 in d:\\programs\\anaconda\\lib\\site-packages (from Flask>=0.8->Flask_restful) (8.0.3)\n",
      "Requirement already satisfied: Werkzeug>=0.15 in d:\\programs\\anaconda\\lib\\site-packages (from Flask>=0.8->Flask_restful) (2.0.2)\n",
      "Requirement already satisfied: itsdangerous>=0.24 in d:\\programs\\anaconda\\lib\\site-packages (from Flask>=0.8->Flask_restful) (2.0.1)\n",
      "Requirement already satisfied: colorama in d:\\programs\\anaconda\\lib\\site-packages (from click>=5.1->Flask>=0.8->Flask_restful) (0.4.4)\n",
      "Requirement already satisfied: MarkupSafe>=0.23 in d:\\programs\\anaconda\\lib\\site-packages (from Jinja2>=2.10.1->Flask>=0.8->Flask_restful) (1.1.1)\n",
      "Requirement already satisfied: numpy in d:\\programs\\anaconda\\lib\\site-packages (1.20.3)\n",
      "Requirement already satisfied: pandas in d:\\programs\\anaconda\\lib\\site-packages (1.3.4)\n",
      "Requirement already satisfied: python-dateutil>=2.7.3 in d:\\programs\\anaconda\\lib\\site-packages (from pandas) (2.8.2)\n",
      "Requirement already satisfied: numpy>=1.17.3 in d:\\programs\\anaconda\\lib\\site-packages (from pandas) (1.20.3)\n",
      "Requirement already satisfied: pytz>=2017.3 in d:\\programs\\anaconda\\lib\\site-packages (from pandas) (2021.3)\n",
      "Requirement already satisfied: six>=1.5 in d:\\programs\\anaconda\\lib\\site-packages (from python-dateutil>=2.7.3->pandas) (1.16.0)\n",
      "Collecting sklearn\n",
      "  Downloading sklearn-0.0.tar.gz (1.1 kB)\n",
      "Requirement already satisfied: scikit-learn in d:\\programs\\anaconda\\lib\\site-packages (from sklearn) (0.24.2)\n",
      "Requirement already satisfied: scipy>=0.19.1 in d:\\programs\\anaconda\\lib\\site-packages (from scikit-learn->sklearn) (1.7.1)\n",
      "Requirement already satisfied: threadpoolctl>=2.0.0 in d:\\programs\\anaconda\\lib\\site-packages (from scikit-learn->sklearn) (2.2.0)\n",
      "Requirement already satisfied: numpy>=1.13.3 in d:\\programs\\anaconda\\lib\\site-packages (from scikit-learn->sklearn) (1.20.3)\n",
      "Requirement already satisfied: joblib>=0.11 in d:\\programs\\anaconda\\lib\\site-packages (from scikit-learn->sklearn) (1.1.0)\n",
      "Building wheels for collected packages: sklearn\n",
      "  Building wheel for sklearn (setup.py): started\n",
      "  Building wheel for sklearn (setup.py): finished with status 'done'\n",
      "  Created wheel for sklearn: filename=sklearn-0.0-py2.py3-none-any.whl size=1309 sha256=c13fe5ea2062d80fe4a3ad90d4228ce496f3a752e88ae835edff89cd3761e7aa\n",
      "  Stored in directory: c:\\users\\gaby\\appdata\\local\\pip\\cache\\wheels\\e4\\7b\\98\\b6466d71b8d738a0c547008b9eb39bf8676d1ff6ca4b22af1c\n",
      "Successfully built sklearn\n",
      "Installing collected packages: sklearn\n",
      "Successfully installed sklearn-0.0\n"
     ]
    }
   ],
   "source": [
    "!pip install Flask\n",
    "!pip install Flask_restful\n",
    "!pip install numpy\n",
    "!pip install pandas\n",
    "!pip install sklearn"
   ]
  },
  {
   "cell_type": "markdown",
   "id": "ddfe189d",
   "metadata": {},
   "source": [
    "### Web server\n",
    "First, we create the Perceptron class that will allow us to later predict the class of Iris plant.\n",
    "\n",
    "Then we create a web service under the following URL: localhost:5000/?sepal={insert your sepal lenghts here, each number separated by coma. Decimals are with .}&petal={insert your petal lenghts here, each number separated by coma. Decimals are with.}. Notice that the each sepal lenght value must correspond to the respective petal lenght value of a given observation (iris plant). Therefore, you should insert them in the same order (ie. first value of parameter sepal and first value of parameter petal correspond to the information of the same iris plant). \n",
    "\n",
    "The following URL is an example to access the web service: http://127.0.0.1:5000/?sepal=3.5,4.7,6.7&petal=2.1,1.3,9.8\n",
    "\n",
    "The web service results are formated in HTML code. We create a table that shows the values of the features and the corresponding predicted class. "
   ]
  },
  {
   "cell_type": "code",
   "execution_count": null,
   "id": "1ff3d32d",
   "metadata": {
    "scrolled": true
   },
   "outputs": [
    {
     "name": "stdout",
     "output_type": "stream",
     "text": [
      " * Serving Flask app \"__main__\" (lazy loading)\n",
      " * Environment: production\n",
      "\u001b[31m   WARNING: This is a development server. Do not use it in a production deployment.\u001b[0m\n",
      "\u001b[2m   Use a production WSGI server instead.\u001b[0m\n",
      " * Debug mode: off\n"
     ]
    },
    {
     "name": "stderr",
     "output_type": "stream",
     "text": [
      " * Running on http://127.0.0.1:5000/ (Press CTRL+C to quit)\n"
     ]
    }
   ],
   "source": [
    "import pandas as pd\n",
    "import numpy as np\n",
    "from flask_restful import Resource, Api\n",
    "from flask import Flask\n",
    "from flask import request, jsonify\n",
    "from sklearn.datasets import load_iris\n",
    "\n",
    "#First we define the perceptron class containing the model\n",
    "class Perceptron:\n",
    "    def __init__(self, eta=0.01, n_iter=10):\n",
    "        self.eta = eta\n",
    "        self.n_iter = n_iter\n",
    "    def fit(self, X, y):\n",
    "        self.w_ = np.zeros(1 + X.shape[1])\n",
    "        self.errors_ = []\n",
    "        for _ in range(self.n_iter):\n",
    "            errors = 0\n",
    "            for xi, target in zip(X,y):\n",
    "                update=self.eta*(target-self.predict(xi))\n",
    "                self.w_[1:] += update *xi\n",
    "                self.w_[0] += update\n",
    "                errors += int(update != 0.0)\n",
    "            self.errors_.append(errors)\n",
    "        return self\n",
    "    def net_input(self, X):\n",
    "        return np.dot(X, self.w_[1:]) + self.w_[0]\n",
    "    def predict(self, X):\n",
    "        return np.where(self.net_input(X) >= 0, 1, -1)\n",
    "    \n",
    "#We import and format the iris data\n",
    "iris = load_iris()\n",
    "df = pd.DataFrame(data = np.c_[iris['data'], iris['target']],\n",
    "                 columns = iris['feature_names']+ ['target']) \n",
    "X, y = df.iloc[:100, [0,2]].values, df.iloc[:100, 4]\n",
    "def a(x):\n",
    "    if x == 0:\n",
    "        return -1\n",
    "    else:\n",
    "        return 1\n",
    "y = y.map(a)\n",
    "\n",
    "#We create a instance of Perceptron class\n",
    "model = Perceptron()\n",
    "\n",
    "#We train the model with the data\n",
    "model.fit(X, y)\n",
    "\n",
    "#We create the web services\n",
    "\n",
    "app = Flask(__name__)\n",
    "@app.route('/', methods=['GET'])\n",
    "def getPredict():\n",
    "    global model\n",
    "    sepal_lengths = request.args.get(\"sepal\", [])\n",
    "    petal_lengths = request.args.get(\"petal\", [])\n",
    "    if(sepal_lengths == None or len(sepal_lengths) == 0):\n",
    "        return \"Error! sepal should not be empty. For testing the web server try: http://127.0.0.1:5000/?sepal=3.5,4.7,6.7&petal=2.1,1.3,9.8\"\n",
    "    \n",
    "    if(petal_lengths == None or len(petal_lengths) == 0):\n",
    "        return \"Error! petal should not be empty. For testing the web server try: http://127.0.0.1:5000/?sepal=3.5,4.7,6.7&petal=2.1,1.3,9.8\"\n",
    "    \n",
    "    html_text = \"<table border=\\\"1\\\"><caption>Ana Gabriela - Iris data and Perceptron model</caption>\"\n",
    "    html_text += '''<thead>\n",
    "                        <tr>\n",
    "                            <th colspan=\\\"2\\\">Features</th>\n",
    "                            <th rowspan=\\\"2\\\">Predicted class</th>\n",
    "                        </tr>\n",
    "                        <tr>\n",
    "                            <th>Sepal lenght</th>\n",
    "                            <th>Petal lenght</th>\n",
    "                        </tr>\n",
    "                    </thead>'''\n",
    "    \n",
    "    sepal = sepal_lengths.split(',')\n",
    "    sepal = np.array(sepal)\n",
    "    sepal = sepal.astype(float)\n",
    "    \n",
    "    petal = petal_lengths.split(',')\n",
    "    petal = np.array(petal)\n",
    "    petal = petal.astype(float)\n",
    "    \n",
    "    if(len(petal) != len(sepal)):\n",
    "        return \"Error! petal and sepal should have the same dimension. For testing the web server try: http://127.0.0.1:5000/?sepal=3.5,4.7,6.7&petal=2.1,1.3,9.8\"\n",
    "    \n",
    "    predict_arg  = [[sepal[0], petal[0]]]\n",
    "    \n",
    "    for i in range (1, len(sepal)):\n",
    "        predict_arg  = np.append(predict_arg, [[sepal[i], petal[i]]], axis=0)\n",
    "        \n",
    "    predictions = model.predict(predict_arg)\n",
    "    \n",
    "    html_text +=\"<tbody>\"\n",
    "    for i in range(0, len(predict_arg)):\n",
    "        html_text += \"<tr><td>\"+str(predict_arg[i][0])+\"</td><td>\"+str(predict_arg[i][1])+\"</td><td>\"+str(predictions[i])+\"</td></tr>\"\n",
    "    html_text +=\"</tbody></table>\"\n",
    "\n",
    "    return str(html_text)\n",
    "\n",
    "app.run()\n",
    "\n"
   ]
  }
 ],
 "metadata": {
  "kernelspec": {
   "display_name": "Python 3 (ipykernel)",
   "language": "python",
   "name": "python3"
  },
  "language_info": {
   "codemirror_mode": {
    "name": "ipython",
    "version": 3
   },
   "file_extension": ".py",
   "mimetype": "text/x-python",
   "name": "python",
   "nbconvert_exporter": "python",
   "pygments_lexer": "ipython3",
   "version": "3.9.7"
  }
 },
 "nbformat": 4,
 "nbformat_minor": 5
}
